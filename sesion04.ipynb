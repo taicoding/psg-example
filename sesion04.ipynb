{
 "cells": [
  {
   "cell_type": "markdown",
   "id": "c8dc6c7b",
   "metadata": {},
   "source": [
    "# Sesión 04\n",
    "- Mi primer notebook\n",
    "- Imprimir árbol\n",
    "- Crear Markdown\n",
    "- Subir a mi repositorio de GitHub"
   ]
  },
  {
   "cell_type": "code",
   "execution_count": 2,
   "id": "bd0f9f50",
   "metadata": {},
   "outputs": [
    {
     "name": "stdout",
     "output_type": "stream",
     "text": [
      "Hola, Mundo desde Notebook!\n"
     ]
    }
   ],
   "source": [
    "# Code 01\n",
    "print (\"Hola, Mundo desde Notebook!\")"
   ]
  },
  {
   "cell_type": "code",
   "execution_count": 6,
   "id": "d4cf2107",
   "metadata": {},
   "outputs": [
    {
     "name": "stdout",
     "output_type": "stream",
     "text": [
      "   ( )\n",
      "  (   )\n",
      " (     )\n",
      "(       )\n",
      "  _| |_\n"
     ]
    }
   ],
   "source": [
    "#Tree \n",
    "print(\"   ( )\")\n",
    "print(\"  (   )\")\n",
    "print(\" (     )\")\n",
    "print(\"(       )\")\n",
    "print (\"  _| |_\")"
   ]
  }
 ],
 "metadata": {
  "kernelspec": {
   "display_name": "Python 3",
   "language": "python",
   "name": "python3"
  },
  "language_info": {
   "codemirror_mode": {
    "name": "ipython",
    "version": 3
   },
   "file_extension": ".py",
   "mimetype": "text/x-python",
   "name": "python",
   "nbconvert_exporter": "python",
   "pygments_lexer": "ipython3",
   "version": "3.12.1"
  }
 },
 "nbformat": 4,
 "nbformat_minor": 5
}
